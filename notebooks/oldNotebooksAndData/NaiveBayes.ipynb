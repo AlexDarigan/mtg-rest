{
  "cells": [
    {
      "cell_type": "markdown",
      "metadata": {
        "colab_type": "text",
        "id": "view-in-github"
      },
      "source": [
        "<a href=\"https://colab.research.google.com/github/AlexDarigan/mtg-rest/blob/main/notebooks/NaiveBayes.ipynb\" target=\"_parent\"><img src=\"https://colab.research.google.com/assets/colab-badge.svg\" alt=\"Open In Colab\"/></a>"
      ]
    },
    {
      "cell_type": "code",
      "execution_count": 1,
      "metadata": {
        "id": "f8_wqfzPHjWy"
      },
      "outputs": [],
      "source": [
        "# Naive-Bayes\n",
        "\n",
        "# Student ID    : C00263218\n",
        "# Student Name  : David Darigan"
      ]
    },
    {
      "cell_type": "markdown",
      "metadata": {
        "id": "-DkzxZdAsJqX"
      },
      "source": [
        "Changelog\n",
        "\n",
        "The following changes are listed from earliest to latest in descending order.\n",
        "\n",
        "- Added Gaussian Naive Bayes on heart_failure_clinical_records_dataset.csv, the\n",
        "initial accuracy for heart failure (noted as Death Event was 0.73)\n",
        "------------\n",
        "- Dropped the 'sex' column, the accuracy stayed at 0.73\n",
        "-----------\n",
        "- Move the 'y' target variable after reading since it will be shared\n",
        "-----------\n",
        "- Dropping sex, time & smoking reduces accuracy to 0.61\n",
        "-----------\n",
        "- Dropping just 'time' drops to 0.61. This would indicate that sex & smoking\n",
        "have no apparent effects on the accuracy\n",
        "----------\n",
        "- Created a wrapper function for naive-bayes but is showing 0.75 instead of .73\n",
        "----------\n",
        "- Previous change was to a cell not being rerun, now showing .73 again\n",
        "----------\n",
        "- Changed random state to 12, accuracy increased to 0.78 (Possible overfit)\n",
        "----------\n",
        "- Changed random state to 13, accuracy is exactly 0.8 currently. Requires cross validation\n",
        "----------\n",
        "- Added cross-validation of 9 dimensions which shows a mean of 0.80% \n",
        "----------\n",
        "- Replace function of model with procedural code\n",
        "----------\n",
        "- Attempted to check all possible combinations but few seem to change for accuracy\n",
        "----------\n",
        "- Remove loop check\n",
        "----------\n",
        "- Remove redundant model\n",
        "----------\n",
        "- Pickled the model\n",
        "----------\n",
        "- Adding placeholder steps in order to re-organize the notebook\n",
        "----------\n",
        "- Reorganized cells according to the steps of the CRISP-DM process"
      ]
    },
    {
      "cell_type": "code",
      "execution_count": null,
      "metadata": {
        "id": "BbLJYMF7IoB3"
      },
      "outputs": [],
      "source": [
        "# CRISP-DM Steps\n",
        "\n",
        "# Business Understanding\n",
        "# Data Understanding\n",
        "# Data Preparation\n",
        "# Modelling\n",
        "# Evaluation\n",
        "# Deployment"
      ]
    },
    {
      "cell_type": "code",
      "execution_count": 2,
      "metadata": {
        "id": "hlaKEOLl68Ld"
      },
      "outputs": [],
      "source": [
        "# Import Libraries\n",
        "from sklearn.model_selection import train_test_split\n",
        "from sklearn.naive_bayes import GaussianNB, CategoricalNB\n",
        "from sklearn.metrics import accuracy_score\n",
        "from sklearn.model_selection import cross_val_score, KFold\n",
        "import joblib\n",
        "\n",
        "\n",
        "import pandas as pd"
      ]
    },
    {
      "cell_type": "code",
      "execution_count": null,
      "metadata": {},
      "outputs": [],
      "source": [
        "# Business Understanding"
      ]
    },
    {
      "cell_type": "code",
      "execution_count": null,
      "metadata": {},
      "outputs": [],
      "source": [
        "# Data Understanding"
      ]
    },
    {
      "cell_type": "code",
      "execution_count": 3,
      "metadata": {},
      "outputs": [],
      "source": [
        "# Data Preparation\n",
        "data = pd.read_csv('heart_failure_clinical_records_dataset.csv')\n",
        "y = data['DEATH_EVENT']\n",
        "X = data.drop('DEATH_EVENT', axis=1)\n",
        "X_train, X_test, y_train, y_test = train_test_split(X, y, test_size=0.2, random_state=13)"
      ]
    },
    {
      "cell_type": "code",
      "execution_count": 4,
      "metadata": {},
      "outputs": [],
      "source": [
        "# Modelling\n",
        "naive_bayes = GaussianNB()\n",
        "naive_bayes.fit(X_train, y_train)\n",
        "predictions = naive_bayes.predict(X_test)"
      ]
    },
    {
      "cell_type": "code",
      "execution_count": null,
      "metadata": {},
      "outputs": [],
      "source": [
        "# Evaluation\n",
        "accuracy = accuracy_score(y_test, predictions)\n",
        "print(\"Accuracy:\", accuracy)\n",
        "\n",
        "# Cross-Validation strategy\n",
        "kf = KFold(n_splits=9, shuffle=True, random_state=42)\n",
        "\n",
        "# Run & Check Validation Score\n",
        "scores = cross_val_score(naive_bayes, X, y, cv=kf)\n",
        "print(\"Cross-Validation Scores:\", scores)\n",
        "print(\"Mean Accuracy:\", scores.mean())"
      ]
    },
    {
      "cell_type": "code",
      "execution_count": null,
      "metadata": {},
      "outputs": [],
      "source": [
        "# Deployment\n",
        "joblib.dump(naive_bayes, 'gNB_heartfailure_model.pkl')"
      ]
    },
    {
      "cell_type": "code",
      "execution_count": 42,
      "metadata": {
        "colab": {
          "base_uri": "https://localhost:8080/"
        },
        "id": "CiUYrdQrs0Gi",
        "outputId": "f59868fb-1c87-4443-adcb-58b923304ff1"
      },
      "outputs": [
        {
          "name": "stdout",
          "output_type": "stream",
          "text": [
            "Accuracy: 0.8\n"
          ]
        }
      ],
      "source": [
        "# Calculate accuracy\n",
        "accuracy = accuracy_score(y_test, predictions)\n",
        "print(\"Accuracy:\", accuracy)"
      ]
    }
  ],
  "metadata": {
    "colab": {
      "authorship_tag": "ABX9TyM6ehOKvxLqg9sqZXM4x0ss",
      "include_colab_link": true,
      "provenance": []
    },
    "kernelspec": {
      "display_name": "Python 3",
      "name": "python3"
    },
    "language_info": {
      "codemirror_mode": {
        "name": "ipython",
        "version": 3
      },
      "file_extension": ".py",
      "mimetype": "text/x-python",
      "name": "python",
      "nbconvert_exporter": "python",
      "pygments_lexer": "ipython3",
      "version": "3.11.6"
    }
  },
  "nbformat": 4,
  "nbformat_minor": 0
}
