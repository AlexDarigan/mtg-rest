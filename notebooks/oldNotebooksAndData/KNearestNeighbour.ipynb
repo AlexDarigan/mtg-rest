{
 "cells": [
  {
   "cell_type": "code",
   "execution_count": null,
   "metadata": {},
   "outputs": [],
   "source": [
    "# Author        : David Darigan\n",
    "# Student ID    : C00263218"
   ]
  },
  {
   "cell_type": "markdown",
   "metadata": {},
   "source": [
    "Changelog\n",
    "\n",
    "The following changes are listed from earliest to latest in descending order.\n",
    "\n",
    "\n",
    "- Add Placeholder Cells for elements of the CRISP-DM Process\n",
    "-----------\n",
    "- Add required imports for the notebook\n",
    "-----------\n",
    "- Change #1\n",
    "\n",
    "    Using the 'spam.csv' dataset of 5572 records and a KNN classifier considering the 3 closest neighbours\n",
    "\n",
    "    ![Data Describe #1](initial_describe.png)\n",
    "\n",
    "    The initial score evaluated to 0.93% which seems a little high.\n",
    "\n",
    "    ![Accuracy #1](accuracy_1.png)\n",
    "\n",
    "-----------\n",
    "- Change #2\n",
    "\n",
    "    Created a confusion matrix using the initial values\n",
    "\n",
    "    ![Confusion Matrix #1](confusion_matrix_1.png)\n",
    "    \n",
    "    True Positive: 72\n",
    "\n",
    "    True Negative: 961\n",
    "\n",
    "    False Positive: 0\n",
    "\n",
    "    False Negative: 82\n",
    "\n",
    "----------\n",
    "- Change #3\n",
    "\n",
    "    Investigated the count of the values of 'ham' (not spam) and 'spam' in the initial dataset. The value ham/not spam significatly outweighs the value of spam which could be leading to significant bias.\n",
    "\n",
    "    ![Dataset Count](dataset.png)\n",
    "\n",
    "----------\n",
    "- Change #4\n",
    "\n",
    "    Split the original dataset into an equal frame of 50/50 values. This frame is almost 5 times less than the initial dataset.\n",
    "\n",
    "    ![Dataset 2](dataset_2.png)\n",
    "\n",
    "    This changed the accuracy to 74%~\n",
    "\n",
    "    ![accuracy_2](accuracy_2.png)\n",
    "\n",
    "    The confusion matrix was rerun on this new test\n",
    "\n",
    "    ![confusion_matrix_2](confusion_matrix_2.png)\n",
    "\n",
    "    The keypoint here is that both in this and the previous confusion matrix, that there are absolutely no positives. The actual negatives (not spam) is still about twice as much as the false negative, considering that the source dataset was split 50/50, this seems to indicate the initial model was suitable for this task."
   ]
  },
  {
   "cell_type": "code",
   "execution_count": null,
   "metadata": {},
   "outputs": [],
   "source": [
    "# CRISP-DM Steps\n",
    "\n",
    "# Business Understanding\n",
    "# Data Understanding\n",
    "# Data Preparation\n",
    "# Modelling\n",
    "# Evaluation\n",
    "# Deployment"
   ]
  },
  {
   "cell_type": "code",
   "execution_count": 14,
   "metadata": {},
   "outputs": [],
   "source": [
    "# Primary Model Imports\n",
    "from sklearn.neighbors import KNeighborsClassifier\n",
    "\n",
    "# Common Imports\n",
    "from sklearn.model_selection import train_test_split\n",
    "from sklearn.metrics import accuracy_score, classification_report, confusion_matrix, ConfusionMatrixDisplay\n",
    "from sklearn.model_selection import cross_val_score, train_test_split, KFold\n",
    "from sklearn.feature_extraction.text import CountVectorizer\n",
    "import matplotlib.pyplot as plt\n",
    "\n",
    "\n",
    "# import matplotlib.pyplot as plt\n",
    "import plotly.figure_factory as ff\n",
    "import numpy as np\n",
    "import pandas as pd\n",
    "import joblib\n",
    "\n",
    "import pandas as pd"
   ]
  },
  {
   "cell_type": "code",
   "execution_count": 5,
   "metadata": {},
   "outputs": [],
   "source": [
    "# Business Understanding\n"
   ]
  },
  {
   "cell_type": "code",
   "execution_count": 51,
   "metadata": {},
   "outputs": [
    {
     "data": {
      "text/html": [
       "<div>\n",
       "<style scoped>\n",
       "    .dataframe tbody tr th:only-of-type {\n",
       "        vertical-align: middle;\n",
       "    }\n",
       "\n",
       "    .dataframe tbody tr th {\n",
       "        vertical-align: top;\n",
       "    }\n",
       "\n",
       "    .dataframe thead th {\n",
       "        text-align: right;\n",
       "    }\n",
       "</style>\n",
       "<table border=\"1\" class=\"dataframe\">\n",
       "  <thead>\n",
       "    <tr style=\"text-align: right;\">\n",
       "      <th></th>\n",
       "      <th>Category</th>\n",
       "      <th>Message</th>\n",
       "    </tr>\n",
       "  </thead>\n",
       "  <tbody>\n",
       "    <tr>\n",
       "      <th>count</th>\n",
       "      <td>1494</td>\n",
       "      <td>1494</td>\n",
       "    </tr>\n",
       "    <tr>\n",
       "      <th>unique</th>\n",
       "      <td>2</td>\n",
       "      <td>1371</td>\n",
       "    </tr>\n",
       "    <tr>\n",
       "      <th>top</th>\n",
       "      <td>ham</td>\n",
       "      <td>Sorry, I'll call later</td>\n",
       "    </tr>\n",
       "    <tr>\n",
       "      <th>freq</th>\n",
       "      <td>747</td>\n",
       "      <td>6</td>\n",
       "    </tr>\n",
       "  </tbody>\n",
       "</table>\n",
       "</div>"
      ],
      "text/plain": [
       "       Category                 Message\n",
       "count      1494                    1494\n",
       "unique        2                    1371\n",
       "top         ham  Sorry, I'll call later\n",
       "freq        747                       6"
      ]
     },
     "execution_count": 51,
     "metadata": {},
     "output_type": "execute_result"
    }
   ],
   "source": [
    "# Data Understanding\n",
    "\n",
    "data = pd.read_csv(\"spam.csv\")\n",
    "\n",
    "# Creating a dataframe that is split 50/50 on ham/spam\n",
    "total_spam = 747\n",
    "small_ham_frame = (data[data['Category'] == 'ham']).head(total_spam)\n",
    "spam_frame = data[data['Category'] == 'spam']\n",
    "data = pd.concat([small_ham_frame,spam_frame])\n",
    "data.describe()"
   ]
  },
  {
   "cell_type": "code",
   "execution_count": 52,
   "metadata": {},
   "outputs": [],
   "source": [
    "# Data Preparation\n",
    "X = data['Message']\n",
    "y = data['Category']\n",
    "\n",
    "# Convert text data into numerical features using CountVectorizer\n",
    "vectorizer = CountVectorizer()\n",
    "X = vectorizer.fit_transform(X)\n",
    "\n",
    "\n",
    "X_train, X_test, y_train, y_test = train_test_split(X, y, test_size=0.2, random_state=13)\n",
    "\n"
   ]
  },
  {
   "cell_type": "code",
   "execution_count": 53,
   "metadata": {},
   "outputs": [],
   "source": [
    "# Modelling\n",
    "knn_classifier = KNeighborsClassifier(n_neighbors=3)\n",
    "knn_classifier.fit(X_train, y_train)\n",
    "\n",
    "# Predict labels for the test set\n",
    "predictions = knn_classifier.predict(X_test)\n"
   ]
  },
  {
   "cell_type": "code",
   "execution_count": 54,
   "metadata": {},
   "outputs": [
    {
     "name": "stdout",
     "output_type": "stream",
     "text": [
      "Accuracy: 0.7391304347826086\n"
     ]
    }
   ],
   "source": [
    "# Evaluation\n",
    "accuracy = accuracy_score(y_test, predictions)\n",
    "print(\"Accuracy:\", accuracy)"
   ]
  },
  {
   "cell_type": "code",
   "execution_count": 12,
   "metadata": {},
   "outputs": [],
   "source": [
    "# Deployment"
   ]
  },
  {
   "cell_type": "code",
   "execution_count": 55,
   "metadata": {},
   "outputs": [
    {
     "name": "stdout",
     "output_type": "stream",
     "text": [
      "['ham' 'ham' 'ham' 'ham' 'ham' 'ham' 'spam' 'ham' 'ham' 'ham' 'ham' 'ham'\n",
      " 'ham' 'ham' 'spam' 'spam' 'ham' 'ham' 'ham' 'ham' 'spam' 'ham' 'ham'\n",
      " 'ham' 'ham' 'ham' 'ham' 'ham' 'spam' 'spam' 'ham' 'ham' 'ham' 'ham' 'ham'\n",
      " 'ham' 'ham' 'ham' 'ham' 'ham' 'spam' 'spam' 'ham' 'ham' 'ham' 'ham' 'ham'\n",
      " 'ham' 'ham' 'spam' 'ham' 'ham' 'ham' 'ham' 'ham' 'ham' 'spam' 'spam'\n",
      " 'ham' 'ham' 'spam' 'ham' 'spam' 'ham' 'ham' 'ham' 'spam' 'ham' 'spam'\n",
      " 'ham' 'ham' 'ham' 'ham' 'ham' 'ham' 'ham' 'ham' 'ham' 'spam' 'ham' 'ham'\n",
      " 'ham' 'ham' 'ham' 'ham' 'spam' 'ham' 'ham' 'ham' 'ham' 'ham' 'spam'\n",
      " 'spam' 'ham' 'spam' 'ham' 'spam' 'ham' 'ham' 'ham' 'ham' 'spam' 'spam'\n",
      " 'spam' 'spam' 'spam' 'spam' 'ham' 'ham' 'ham' 'ham' 'ham' 'ham' 'ham'\n",
      " 'ham' 'ham' 'ham' 'ham' 'ham' 'spam' 'ham' 'ham' 'spam' 'spam' 'ham'\n",
      " 'ham' 'ham' 'ham' 'spam' 'spam' 'ham' 'ham' 'ham' 'ham' 'ham' 'ham'\n",
      " 'spam' 'ham' 'ham' 'spam' 'ham' 'spam' 'spam' 'spam' 'ham' 'spam' 'ham'\n",
      " 'spam' 'ham' 'ham' 'ham' 'ham' 'ham' 'ham' 'ham' 'ham' 'spam' 'ham' 'ham'\n",
      " 'ham' 'spam' 'ham' 'spam' 'ham' 'ham' 'ham' 'ham' 'ham' 'ham' 'ham' 'ham'\n",
      " 'ham' 'ham' 'ham' 'ham' 'ham' 'ham' 'spam' 'ham' 'ham' 'ham' 'ham' 'spam'\n",
      " 'ham' 'ham' 'spam' 'ham' 'ham' 'ham' 'spam' 'ham' 'ham' 'ham' 'ham'\n",
      " 'spam' 'ham' 'ham' 'ham' 'ham' 'spam' 'spam' 'ham' 'ham' 'spam' 'ham'\n",
      " 'ham' 'ham' 'ham' 'ham' 'ham' 'spam' 'spam' 'ham' 'ham' 'ham' 'ham' 'ham'\n",
      " 'ham' 'ham' 'ham' 'ham' 'spam' 'ham' 'ham' 'ham' 'ham' 'spam' 'ham' 'ham'\n",
      " 'spam' 'ham' 'ham' 'ham' 'spam' 'spam' 'ham' 'spam' 'ham' 'ham' 'spam'\n",
      " 'spam' 'ham' 'spam' 'ham' 'ham' 'ham' 'spam' 'ham' 'spam' 'ham' 'ham'\n",
      " 'ham' 'spam' 'ham' 'spam' 'ham' 'ham' 'ham' 'ham' 'spam' 'ham' 'ham'\n",
      " 'spam' 'ham' 'ham' 'ham' 'spam' 'ham' 'ham' 'ham' 'ham' 'spam' 'ham'\n",
      " 'ham' 'ham' 'ham' 'spam' 'spam' 'spam' 'ham' 'spam' 'spam' 'spam' 'ham'\n",
      " 'ham' 'ham' 'ham' 'ham' 'ham' 'ham' 'ham' 'ham' 'ham' 'spam' 'ham' 'ham'\n",
      " 'ham' 'ham' 'ham']\n",
      "spam: 76\n",
      "ham: 223\n"
     ]
    },
    {
     "data": {
      "image/png": "[encoded data removed]",
      "text/plain": [
       "<Figure size 800x600 with 2 Axes>"
      ]
     },
     "metadata": {},
     "output_type": "display_data"
    }
   ],
   "source": [
    "\n",
    "# # Confusion Matrix\n",
    "print(predictions)\n",
    "\n",
    "check = list(predictions)\n",
    "word_counts = {word: check.count(word) for word in set(check)}\n",
    "\n",
    "# Print word counts\n",
    "for word, count in word_counts.items():\n",
    "    print(f'{word}: {count}')\n",
    "\n",
    "cm = confusion_matrix(y_test, predictions)\n",
    "plt.figure(figsize=(8, 6))\n",
    "plt.imshow(cm, interpolation='nearest', cmap=plt.cm.Blues)\n",
    "plt.title('Confusion Matrix')\n",
    "plt.colorbar()\n",
    "plt.xticks([0, 1], ['Predicted Negative', 'Predicted Positive'])\n",
    "plt.yticks([0, 1], ['Actual Negative', 'Actual Positive'])\n",
    "\n",
    "thresh = cm.max() / 2.\n",
    "for i in range(cm.shape[0]):\n",
    "    for j in range(cm.shape[1]):\n",
    "        plt.text(j, i, format(cm[i, j], 'd'),\n",
    "                 ha=\"center\", va=\"center\",\n",
    "                 color=\"white\" if cm[i, j] > thresh else \"black\")\n",
    "\n",
    "plt.xlabel('Predicted Labels')\n",
    "plt.ylabel('True Labels')\n",
    "plt.tight_layout()\n",
    "\n",
    "plt.show()"
   ]
  },
  {
   "cell_type": "code",
   "execution_count": null,
   "metadata": {},
   "outputs": [],
   "source": []
  }
 ],
 "metadata": {
  "kernelspec": {
   "display_name": "Python 3",
   "language": "python",
   "name": "python3"
  },
  "language_info": {
   "codemirror_mode": {
    "name": "ipython",
    "version": 3
   },
   "file_extension": ".py",
   "mimetype": "text/x-python",
   "name": "python",
   "nbconvert_exporter": "python",
   "pygments_lexer": "ipython3",
   "version": "3.11.0rc1"
  }
 },
 "nbformat": 4,
 "nbformat_minor": 2
}
