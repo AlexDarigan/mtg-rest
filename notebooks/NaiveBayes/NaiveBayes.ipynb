{
  "cells": [
    {
      "cell_type": "markdown",
      "metadata": {
        "colab_type": "text",
        "id": "view-in-github"
      },
      "source": [
        "<a href=\"https://colab.research.google.com/github/AlexDarigan/mtg-rest/blob/main/notebooks/NaiveBayes.ipynb\" target=\"_parent\"><img src=\"https://colab.research.google.com/assets/colab-badge.svg\" alt=\"Open In Colab\"/></a>"
      ]
    },
    {
      "cell_type": "code",
      "execution_count": null,
      "metadata": {
        "id": "f8_wqfzPHjWy"
      },
      "outputs": [],
      "source": [
        "# Naive-Bayes\n",
        "\n",
        "# Student ID    : C00263218\n",
        "# Student Name  : David Darigan"
      ]
    },
    {
      "cell_type": "markdown",
      "metadata": {
        "id": "-DkzxZdAsJqX"
      },
      "source": [
        "Changelog\n",
        "\n",
        "The following changes are listed from earliest to latest in descending order.\n",
        "\n",
        "- Added Gaussian Naive Bayes on heart_failure_clinical_records_dataset.csv, the\n",
        "initial accuracy for heart failure (noted as Death Event was 0.73)\n",
        "------------\n",
        "- Dropped the 'sex' column, the accuracy stayed at 0.73\n",
        "-----------\n",
        "- Move the 'y' target variable after reading since it will be shared\n",
        "-----------\n",
        "- Dropping sex, time & smoking reduces accuracy to 0.61\n",
        "-----------\n",
        "- Dropping just 'time' drops to 0.61. This would indicate that sex & smoking\n",
        "have no apparent effects on the accuracy\n",
        "----------\n",
        "- Created a wrapper function for naive-bayes but is showing 0.75 instead of .73\n",
        "----------\n",
        "- Previous change was to a cell not being rerun, now showing .73 again\n",
        "----------\n",
        "- Changed random state to 12, accuracy increased to 0.78 (Possible overfit)\n",
        "----------\n",
        "- Changed random state to 13, accuracy is exactly 0.8 currently. Requires cross validation\n",
        "----------\n",
        "- Added cross-validation of 9 dimensions which shows a mean of 0.80% \n",
        "----------\n",
        "- Replace function of model with procedural code\n",
        "----------\n",
        "- Attempted to check all possible combinations but few seem to change for accuracy\n",
        "----------\n",
        "- Remove loop check\n",
        "----------\n",
        "- Remove redundant model"
      ]
    },
    {
      "cell_type": "code",
      "execution_count": null,
      "metadata": {
        "id": "dm_QebfIHoM-"
      },
      "outputs": [],
      "source": [
        "# Data-Set\n",
        "# Gaussian Naive Bayes\n",
        "# Categorial Naive Bayes\n",
        "# Confusion Matrix\n",
        "# Data Processing Model"
      ]
    },
    {
      "cell_type": "code",
      "execution_count": null,
      "metadata": {
        "id": "BbLJYMF7IoB3"
      },
      "outputs": [],
      "source": [
        "# CRISP-DM Model\n",
        "\n",
        "# 1. Business understanding – What does the business need?\n",
        "# 2. Data understanding – What data do we have / need? Is it clean?\n",
        "# 3. Data preparation – How do we organize the data for modeling?\n",
        "# 4. Modeling – What modeling techniques should we apply?\n",
        "# 5. Evaluation – Which model best meets the business objectives?\n",
        "# 6. Deployment – How do stakeholders access the results?"
      ]
    },
    {
      "cell_type": "code",
      "execution_count": null,
      "metadata": {
        "id": "t_qnSgFlJmHO"
      },
      "outputs": [],
      "source": [
        "# Modelling vs Classification\n",
        "\n",
        "# So is the idea that something like SQL with a defined set of tables\n",
        "# and columns is the data modelling (how the data is laid out) whereas something\n",
        "# like Naive Bayes is classification (ie it decides what data is what according to the Model)"
      ]
    },
    {
      "cell_type": "code",
      "execution_count": 50,
      "metadata": {
        "id": "hlaKEOLl68Ld"
      },
      "outputs": [],
      "source": [
        "# Import Libraries\n",
        "from sklearn.model_selection import train_test_split\n",
        "from sklearn.naive_bayes import GaussianNB, CategoricalNB\n",
        "from sklearn.metrics import accuracy_score\n",
        "from sklearn.model_selection import cross_val_score, KFold\n",
        "import joblib\n",
        "\n",
        "\n",
        "import pandas as pd"
      ]
    },
    {
      "cell_type": "code",
      "execution_count": 2,
      "metadata": {
        "colab": {
          "base_uri": "https://localhost:8080/"
        },
        "id": "P04I4-g--3Vu",
        "outputId": "e01461b0-a0c4-47c2-bb21-563e4880c692"
      },
      "outputs": [
        {
          "name": "stdout",
          "output_type": "stream",
          "text": [
            "['age' 'anaemia' 'creatinine_phosphokinase' 'diabetes' 'ejection_fraction'\n",
            " 'high_blood_pressure' 'platelets' 'serum_creatinine' 'serum_sodium' 'sex'\n",
            " 'smoking' 'time' 'DEATH_EVENT']\n"
          ]
        }
      ],
      "source": [
        "# Read data\n",
        "data = pd.read_csv('heart_failure_clinical_records_dataset.csv')\n"
      ]
    },
    {
      "cell_type": "code",
      "execution_count": 41,
      "metadata": {
        "id": "uFpbbcQ7zJA1"
      },
      "outputs": [],
      "source": [
        "# Creating the Model\n",
        "\n",
        "y = data['DEATH_EVENT']\n",
        "X = data.drop('DEATH_EVENT', axis=1)\n",
        "X_train, X_test, y_train, y_test = train_test_split(X, y, test_size=0.2, random_state=13)\n",
        "\n",
        "naive_bayes = GaussianNB()\n",
        "\n",
        "# Train the classifier\n",
        "naive_bayes.fit(X_train, y_train)\n",
        "\n",
        "# Make predictions\n",
        "predictions = naive_bayes.predict(X_test)\n"
      ]
    },
    {
      "cell_type": "code",
      "execution_count": 42,
      "metadata": {
        "colab": {
          "base_uri": "https://localhost:8080/"
        },
        "id": "CiUYrdQrs0Gi",
        "outputId": "f59868fb-1c87-4443-adcb-58b923304ff1"
      },
      "outputs": [
        {
          "name": "stdout",
          "output_type": "stream",
          "text": [
            "Accuracy: 0.8\n"
          ]
        }
      ],
      "source": [
        "# Calculate accuracy\n",
        "accuracy = accuracy_score(y_test, predictions)\n",
        "print(\"Accuracy:\", accuracy)"
      ]
    },
    {
      "cell_type": "code",
      "execution_count": 51,
      "metadata": {},
      "outputs": [
        {
          "name": "stdout",
          "output_type": "stream",
          "text": [
            "Cross-Validation Scores: [0.76470588 0.70588235 0.93939394 0.78787879 0.93939394 0.81818182\n",
            " 0.87878788 0.66666667 0.78787879]\n",
            "Mean Accuracy: 0.8098633392751041\n"
          ]
        }
      ],
      "source": [
        "# Cross-Validation strategy\n",
        "kf = KFold(n_splits=9, shuffle=True, random_state=42)\n",
        "\n",
        "# Run & Check Validation Score\n",
        "scores = cross_val_score(naive_bayes, X, y, cv=kf)\n",
        "print(\"Cross-Validation Scores:\", scores)\n",
        "print(\"Mean Accuracy:\", scores.mean())"
      ]
    },
    {
      "cell_type": "code",
      "execution_count": 52,
      "metadata": {
        "id": "7Vvx8SUJywG9"
      },
      "outputs": [
        {
          "data": {
            "text/plain": [
              "['gNB_heartfailure_model.pkl']"
            ]
          },
          "execution_count": 52,
          "metadata": {},
          "output_type": "execute_result"
        }
      ],
      "source": [
        "# Pickling the Model\n",
        "joblib.dump(naive_bayes, 'gNB_heartfailure_model.pkl')\n"
      ]
    },
    {
      "cell_type": "code",
      "execution_count": null,
      "metadata": {},
      "outputs": [],
      "source": []
    }
  ],
  "metadata": {
    "colab": {
      "authorship_tag": "ABX9TyM6ehOKvxLqg9sqZXM4x0ss",
      "include_colab_link": true,
      "provenance": []
    },
    "kernelspec": {
      "display_name": "Python 3",
      "name": "python3"
    },
    "language_info": {
      "codemirror_mode": {
        "name": "ipython",
        "version": 3
      },
      "file_extension": ".py",
      "mimetype": "text/x-python",
      "name": "python",
      "nbconvert_exporter": "python",
      "pygments_lexer": "ipython3",
      "version": "3.11.0rc1"
    }
  },
  "nbformat": 4,
  "nbformat_minor": 0
}
