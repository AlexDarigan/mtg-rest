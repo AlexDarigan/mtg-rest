{
  "nbformat": 4,
  "nbformat_minor": 0,
  "metadata": {
    "colab": {
      "provenance": [],
      "authorship_tag": "ABX9TyM6ehOKvxLqg9sqZXM4x0ss",
      "include_colab_link": true
    },
    "kernelspec": {
      "name": "python3",
      "display_name": "Python 3"
    },
    "language_info": {
      "name": "python"
    }
  },
  "cells": [
    {
      "cell_type": "markdown",
      "metadata": {
        "id": "view-in-github",
        "colab_type": "text"
      },
      "source": [
        "<a href=\"https://colab.research.google.com/github/AlexDarigan/mtg-rest/blob/main/notebooks/NaiveBayes.ipynb\" target=\"_parent\"><img src=\"https://colab.research.google.com/assets/colab-badge.svg\" alt=\"Open In Colab\"/></a>"
      ]
    },
    {
      "cell_type": "code",
      "execution_count": null,
      "metadata": {
        "id": "f8_wqfzPHjWy"
      },
      "outputs": [],
      "source": [
        "# Naive-Bayes\n",
        "\n",
        "# Student ID    : C00263218\n",
        "# Student Name  : David Darigan"
      ]
    },
    {
      "cell_type": "markdown",
      "source": [
        "Changelog\n",
        "\n",
        "The following changes are listed from earliest to latest in descending order.\n",
        "\n",
        "- Added Gaussian Naive Bayes on heart_failure_clinical_records_dataset.csv, the\n",
        "initial accuracy for heart failure (noted as Death Event was 0.73)\n",
        "------------\n",
        "- Dropped the 'sex' column, the accuracy stayed at 0.73\n",
        "-----------\n",
        "- Move the 'y' target variable after reading since it will be shared\n",
        "-----------\n",
        "- Dropping sex, time & smoking reduces accuracy to 0.61\n",
        "-----------\n",
        "- Dropping just 'time' drops to 0.61. This would indicate that sex & smoking\n",
        "have no apparent effects on the accuracy\n",
        "----------\n",
        "- Created a wrapper function for naive-bayes but is showing 0.75 instead of .73\n",
        "----------\n",
        "- Previous change was to a cell not being rerun, now showing .73 again"
      ],
      "metadata": {
        "id": "-DkzxZdAsJqX"
      }
    },
    {
      "cell_type": "code",
      "source": [
        "# Data-Set\n",
        "# Gaussian Naive Bayes\n",
        "# Categorial Naive Bayes\n",
        "# Confusion Matrix\n",
        "# Data Processing Model"
      ],
      "metadata": {
        "id": "dm_QebfIHoM-"
      },
      "execution_count": null,
      "outputs": []
    },
    {
      "cell_type": "code",
      "source": [
        "# CRISP-DM Model\n",
        "\n",
        "# 1. Business understanding – What does the business need?\n",
        "# 2. Data understanding – What data do we have / need? Is it clean?\n",
        "# 3. Data preparation – How do we organize the data for modeling?\n",
        "# 4. Modeling – What modeling techniques should we apply?\n",
        "# 5. Evaluation – Which model best meets the business objectives?\n",
        "# 6. Deployment – How do stakeholders access the results?"
      ],
      "metadata": {
        "id": "BbLJYMF7IoB3"
      },
      "execution_count": null,
      "outputs": []
    },
    {
      "cell_type": "code",
      "source": [
        "# Modelling vs Classification\n",
        "\n",
        "# So is the idea that something like SQL with a defined set of tables\n",
        "# and columns is the data modelling (how the data is laid out) whereas something\n",
        "# like Naive Bayes is classification (ie it decides what data is what according to the Model)"
      ],
      "metadata": {
        "id": "t_qnSgFlJmHO"
      },
      "execution_count": null,
      "outputs": []
    },
    {
      "cell_type": "code",
      "source": [
        "# Import Libraries\n",
        "from sklearn.model_selection import train_test_split\n",
        "from sklearn.naive_bayes import GaussianNB, CategoricalNB\n",
        "from sklearn.metrics import accuracy_score\n",
        "import pandas as pd"
      ],
      "metadata": {
        "id": "hlaKEOLl68Ld"
      },
      "execution_count": null,
      "outputs": []
    },
    {
      "cell_type": "code",
      "source": [
        "# Read data\n",
        "data = pd.read_csv('heart_failure_clinical_records_dataset.csv')\n",
        "print(data.columns.values)\n",
        "y = data['DEATH_EVENT']"
      ],
      "metadata": {
        "id": "P04I4-g--3Vu",
        "colab": {
          "base_uri": "https://localhost:8080/"
        },
        "outputId": "e01461b0-a0c4-47c2-bb21-563e4880c692"
      },
      "execution_count": null,
      "outputs": [
        {
          "output_type": "stream",
          "name": "stdout",
          "text": [
            "['age' 'anaemia' 'creatinine_phosphokinase' 'diabetes' 'ejection_fraction'\n",
            " 'high_blood_pressure' 'platelets' 'serum_creatinine' 'serum_sodium' 'sex'\n",
            " 'smoking' 'time' 'DEATH_EVENT']\n"
          ]
        }
      ]
    },
    {
      "cell_type": "code",
      "source": [
        "def use_naive_bayes(drop, data, target):\n",
        "  X = data.drop(target, axis=1)\n",
        "  for column in drop:\n",
        "    X = X.drop(column, axis=1)\n",
        "  X_train, X_test, y_train, y_test = train_test_split(X, y, test_size=0.2, random_state=42)\n",
        "\n",
        "  naive_bayes = GaussianNB()\n",
        "\n",
        "  # Train the classifier\n",
        "  naive_bayes.fit(X_train, y_train)\n",
        "\n",
        "  # Make predictions\n",
        "  predictions = naive_bayes.predict(X_test)\n",
        "\n",
        "  # Calculate accuracy\n",
        "  accuracy = accuracy_score(y_test, predictions)\n",
        "  print(\"Accuracy:\", accuracy)\n"
      ],
      "metadata": {
        "id": "uFpbbcQ7zJA1"
      },
      "execution_count": null,
      "outputs": []
    },
    {
      "cell_type": "code",
      "source": [
        "use_naive_bayes([], data, 'DEATH_EVENT')"
      ],
      "metadata": {
        "colab": {
          "base_uri": "https://localhost:8080/"
        },
        "id": "CiUYrdQrs0Gi",
        "outputId": "f59868fb-1c87-4443-adcb-58b923304ff1"
      },
      "execution_count": null,
      "outputs": [
        {
          "output_type": "stream",
          "name": "stdout",
          "text": [
            "Accuracy: 0.7333333333333333\n"
          ]
        }
      ]
    },
    {
      "cell_type": "code",
      "source": [
        "use_naive_bayes([\"sex\", \"smoking\"], data, \"DEATH_EVENT\")"
      ],
      "metadata": {
        "colab": {
          "base_uri": "https://localhost:8080/"
        },
        "id": "MYXYEP1vs4p3",
        "outputId": "772be79f-3f28-411d-8b58-0035c6aff1a4"
      },
      "execution_count": null,
      "outputs": [
        {
          "output_type": "stream",
          "name": "stdout",
          "text": [
            "Accuracy: 0.7333333333333333\n"
          ]
        }
      ]
    },
    {
      "cell_type": "code",
      "source": [
        "# Columns are\n",
        "\n",
        "columns = ['age' 'anaemia' 'creatinine_phosphokinase' 'diabetes' 'ejection_fraction'\n",
        "'high_blood_pressure' 'platelets' 'serum_creatinine' 'serum_sodium' 'sex'\n",
        "'smoking' 'time']\n",
        "\n",
        "# for col in columns:\n",
        "#   print(col)\n",
        "\n",
        "from itertools import combinations, chain\n",
        "\n",
        "\n",
        "all_combinations = list(chain.from_iterable(combinations(columns, r) for r in range(1, len(columns) + 1)))\n",
        "\n",
        "for combination in all_combinations:\n",
        "    print(combination)\n",
        "\n",
        "all_combinations = [c for r in range(1, len(columns) + 1) for c in combinations(columns, r)]\n",
        "\n",
        "for combination in all_combinations:\n",
        "    print(combination)"
      ],
      "metadata": {
        "colab": {
          "base_uri": "https://localhost:8080/"
        },
        "id": "swnt9_a5tUs3",
        "outputId": "88ecd194-d86d-468f-db65-71ec8793b29f"
      },
      "execution_count": null,
      "outputs": [
        {
          "output_type": "stream",
          "name": "stdout",
          "text": [
            "('ageanaemiacreatinine_phosphokinasediabetesejection_fractionhigh_blood_pressureplateletsserum_creatinineserum_sodiumsexsmokingtime',)\n",
            "('ageanaemiacreatinine_phosphokinasediabetesejection_fractionhigh_blood_pressureplateletsserum_creatinineserum_sodiumsexsmokingtime',)\n"
          ]
        }
      ]
    },
    {
      "cell_type": "code",
      "source": [],
      "metadata": {
        "id": "7Vvx8SUJywG9"
      },
      "execution_count": null,
      "outputs": []
    }
  ]
}